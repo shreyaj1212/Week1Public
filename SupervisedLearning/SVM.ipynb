{
 "cells": [
  {
   "cell_type": "markdown",
   "metadata": {},
   "source": [
    "# Supervised Machine Learning"
   ]
  },
  {
   "cell_type": "markdown",
   "metadata": {},
   "source": [
    "2 of the main types of machine learning are **supervised** and **unsupervised** learning. These notebooks will give a crash course on some common models for **supervised learning**. In supervised learning, algorithms \"learn\" from **labeled data**. An algorithm determines what label should be given to unlabeled new data based on patterns recognized from the labeled data.\n",
    "\n",
    "\n",
    "Supervised learning can be divided into 2 categories: **classification** and **regression**\n",
    "- classification: predicts a **category** for a data point (ex malignant or benign, male or female)\n",
    "- regression: predicts a **numerical value** for a data point (ex height, weight)"
   ]
  },
  {
   "cell_type": "markdown",
   "metadata": {},
   "source": [
    "## Resource\n",
    "\n",
    "https://medium.com/machine-learning-101\n",
    "- really great series of articles on intro to machine learning, take a look if you have time!"
   ]
  },
  {
   "cell_type": "markdown",
   "metadata": {},
   "source": [
    "# SVM (Support Vector Machine)"
   ]
  },
  {
   "cell_type": "markdown",
   "metadata": {},
   "source": [
    "SVMs are algorithms that can be used for both classification and regression purposes, although they are more commonly used for **classification**.\n",
    "\n",
    "An SVM classifies data by finding the optimal **hyperplane** (line) that best divides (classifies) a dataset into classes like in the example below. In two dimentional space this hyperplane is a line dividing a plane in two parts where in each class lay in either side.\n",
    "\n",
    "Each data item is a vector point in n-dimensional space, where n is the number of features \n",
    "\n",
    "<img src=\"https://cdn-images-1.medium.com/max/1200/0*0o8xIA4k3gXUDCFU.png\">\n",
    "\n",
    "**Support vectors** are the data points nearest to the hyperplane, where if removed would alter the position of the dividing hyperplane (making them the most important elements of the dataset!)\n",
    "\n",
    "The **margin** is the spacing between the hyperplane and support vectors.\n",
    "\n",
    "Intuitively, **the further from the hyperplane our support vectors points lie (*aka the larger the margin is for both classes*), the more confident we are that they have been correctly classified**. We therefore want our data points to be as far away from the hyperplane as possible, while still being on the correct side of it."
   ]
  },
  {
   "cell_type": "markdown",
   "metadata": {},
   "source": [
    "<img src=\"https://miro.medium.com/max/720/1*fv8DDZLaR0t7SO-W6tdDAg.png\">\n",
    "\n",
    "So what happens when we have data that overlaps and *doesn't* have a clear hyperplane? We have these two options:\n",
    "\n",
    "<img src=\"https://miro.medium.com/max/600/1*1dwut8cWQ-39POHV48tv4w.png\">\n",
    "<img src=\"https://miro.medium.com/max/600/1*gt_dkcA5p0ZTHjIpq1qnLQ.png\"> \n",
    "\n",
    "And both options are correct! *However* there is a tradeoff. If you have a huge data set * *cough challenge problem cough* * then going with the second option may not be the best option as it will take a long time."
   ]
  },
  {
   "cell_type": "markdown",
   "metadata": {},
   "source": [
    "## Important Parameters"
   ]
  },
  {
   "cell_type": "markdown",
   "metadata": {},
   "source": [
    "- Regularization\n",
    "- Gamma\n",
    "- Margin\n",
    "- Kernel"
   ]
  },
  {
   "cell_type": "markdown",
   "metadata": {},
   "source": [
    "## Regularization (C)\n",
    "- tells the SVM optimization how much you want to avoid misclassifying each training example\n",
    "> - C with a low value creates a smooth decision boundary\n",
    "> - C with a high values encourages a decision boundary that correctly labels all training examples even if the boundary is very specific to the training example"
   ]
  },
  {
   "cell_type": "markdown",
   "metadata": {},
   "source": [
    "## Gamma\n",
    "- defines how far the influence of a single training example reaches\n",
    "\n",
    "<img src=\"https://miro.medium.com/max/720/1*dGDQxV8j83VB90skHsXktw.png\">\n",
    "<img src=\"https://miro.medium.com/max/720/1*ClmsnU_yb1YtIwAAr7krmg.png\">"
   ]
  },
  {
   "cell_type": "markdown",
   "metadata": {},
   "source": [
    "## Margin\n",
    "- separation of line to the support vectors\n",
    "\n",
    "<img src=\"https://miro.medium.com/max/720/1*Ftns0ebfUHJDdpWt3Wvp-Q.png\">\n",
    "<img src=\"https://miro.medium.com/max/720/1*NbGV1iEtNuklACNUv74w7A.png\">"
   ]
  },
  {
   "cell_type": "markdown",
   "metadata": {},
   "source": [
    "### Kernel\n",
    "- defines whether we want a linear of linear separation\n",
    "\n",
    "<img src=\"https://miro.medium.com/max/720/1*C3j5m3E3KviEApHKleILZQ.png\"> <br><br>\n",
    "<img src=\"https://miro.medium.com/max/720/1*FLolUnVUjqV0EGm3CYBPLw.png\"> <br><br>\n",
    "<img src=\"https://miro.medium.com/max/720/1*NN5VCpVg9gPCLYrDl0YFYw.png\"> <br><br>\n",
    "\n",
    "♥ sklearn library's SVM ♥"
   ]
  },
  {
   "cell_type": "markdown",
   "metadata": {},
   "source": [
    "# Example SVM"
   ]
  },
  {
   "cell_type": "markdown",
   "metadata": {},
   "source": [
    "Next we will see if we can use an SVM to predict whether or not a patient has diabetes given some medical information about them. Load and view the data in the cells below."
   ]
  },
  {
   "cell_type": "markdown",
   "metadata": {},
   "source": [
    "## Loading the Data"
   ]
  },
  {
   "cell_type": "code",
   "execution_count": 15,
   "metadata": {},
   "outputs": [],
   "source": [
    "#imports\n",
    "import numpy as np\n",
    "import pandas as po\n",
    "from sklearn.model_selection import train_test_split\n",
    "from sklearn import svm\n",
    "from sklearn.metrics import accuracy_score\n",
    "from sklearn.svm import SVC # \"Support vector classifier\""
   ]
  },
  {
   "cell_type": "code",
   "execution_count": 16,
   "metadata": {},
   "outputs": [
    {
     "data": {
      "text/html": [
       "<div>\n",
       "<style scoped>\n",
       "    .dataframe tbody tr th:only-of-type {\n",
       "        vertical-align: middle;\n",
       "    }\n",
       "\n",
       "    .dataframe tbody tr th {\n",
       "        vertical-align: top;\n",
       "    }\n",
       "\n",
       "    .dataframe thead th {\n",
       "        text-align: right;\n",
       "    }\n",
       "</style>\n",
       "<table border=\"1\" class=\"dataframe\">\n",
       "  <thead>\n",
       "    <tr style=\"text-align: right;\">\n",
       "      <th></th>\n",
       "      <th>preg</th>\n",
       "      <th>plas</th>\n",
       "      <th>pres</th>\n",
       "      <th>skin</th>\n",
       "      <th>test</th>\n",
       "      <th>mass</th>\n",
       "      <th>pedi</th>\n",
       "      <th>age</th>\n",
       "      <th>class</th>\n",
       "    </tr>\n",
       "  </thead>\n",
       "  <tbody>\n",
       "    <tr>\n",
       "      <th>0</th>\n",
       "      <td>6</td>\n",
       "      <td>148</td>\n",
       "      <td>72</td>\n",
       "      <td>35</td>\n",
       "      <td>0</td>\n",
       "      <td>33.6</td>\n",
       "      <td>0.627</td>\n",
       "      <td>50</td>\n",
       "      <td>1</td>\n",
       "    </tr>\n",
       "    <tr>\n",
       "      <th>1</th>\n",
       "      <td>1</td>\n",
       "      <td>85</td>\n",
       "      <td>66</td>\n",
       "      <td>29</td>\n",
       "      <td>0</td>\n",
       "      <td>26.6</td>\n",
       "      <td>0.351</td>\n",
       "      <td>31</td>\n",
       "      <td>0</td>\n",
       "    </tr>\n",
       "    <tr>\n",
       "      <th>2</th>\n",
       "      <td>8</td>\n",
       "      <td>183</td>\n",
       "      <td>64</td>\n",
       "      <td>0</td>\n",
       "      <td>0</td>\n",
       "      <td>23.3</td>\n",
       "      <td>0.672</td>\n",
       "      <td>32</td>\n",
       "      <td>1</td>\n",
       "    </tr>\n",
       "    <tr>\n",
       "      <th>3</th>\n",
       "      <td>1</td>\n",
       "      <td>89</td>\n",
       "      <td>66</td>\n",
       "      <td>23</td>\n",
       "      <td>94</td>\n",
       "      <td>28.1</td>\n",
       "      <td>0.167</td>\n",
       "      <td>21</td>\n",
       "      <td>0</td>\n",
       "    </tr>\n",
       "    <tr>\n",
       "      <th>4</th>\n",
       "      <td>0</td>\n",
       "      <td>137</td>\n",
       "      <td>40</td>\n",
       "      <td>35</td>\n",
       "      <td>168</td>\n",
       "      <td>43.1</td>\n",
       "      <td>2.288</td>\n",
       "      <td>33</td>\n",
       "      <td>1</td>\n",
       "    </tr>\n",
       "  </tbody>\n",
       "</table>\n",
       "</div>"
      ],
      "text/plain": [
       "   preg  plas  pres  skin  test  mass   pedi  age  class\n",
       "0     6   148    72    35     0  33.6  0.627   50      1\n",
       "1     1    85    66    29     0  26.6  0.351   31      0\n",
       "2     8   183    64     0     0  23.3  0.672   32      1\n",
       "3     1    89    66    23    94  28.1  0.167   21      0\n",
       "4     0   137    40    35   168  43.1  2.288   33      1"
      ]
     },
     "execution_count": 16,
     "metadata": {},
     "output_type": "execute_result"
    }
   ],
   "source": [
    "#loading pima indians diabetes dataset\n",
    "url = \"https://raw.githubusercontent.com/jbrownlee/Datasets/master/pima-indians-diabetes.data.csv\"\n",
    "names = ['preg', 'plas', 'pres', 'skin', 'test', 'mass', 'pedi', 'age', 'class']\n",
    "\n",
    "#  'preg': number of pregnancies  \n",
    "#  'plas': plasma glucose concentration \n",
    "#  'pres': blood pressure \n",
    "#  'skin': skin thickness\n",
    "#  'test': Insulin\n",
    "#  'mass': BMI\n",
    "#  'pedi': diabetes pedigree function\n",
    "#  'age': age\n",
    "#  'class': '0' means does not have diabetes and '1' means has diabetes\n",
    "\n",
    "data = po.read_csv(url, names=names)\n",
    "\n",
    "data.head()"
   ]
  },
  {
   "cell_type": "markdown",
   "metadata": {},
   "source": [
    "## Splitting Testing/Training Data"
   ]
  },
  {
   "cell_type": "code",
   "execution_count": 17,
   "metadata": {},
   "outputs": [],
   "source": [
    "# columns we will use to make predictions with (features!)\n",
    "x_cols = ['preg', 'plas', 'pres', 'skin', 'test', 'mass', 'pedi', 'age']\n",
    "\n",
    "# column that we want to predict\n",
    "y_col = 'class'\n",
    "\n",
    "# 80-20 split of dataset\n",
    "test_size = 0.2\n",
    "x_training, x_testing, y_training, y_testing = train_test_split(data[x_cols], data[y_col], test_size=test_size, random_state=0)"
   ]
  },
  {
   "cell_type": "markdown",
   "metadata": {},
   "source": [
    "## Creating Model"
   ]
  },
  {
   "cell_type": "code",
   "execution_count": 25,
   "metadata": {},
   "outputs": [
    {
     "data": {
      "text/plain": [
       "SVC(C=1.0, cache_size=200, class_weight=None, coef0=0.0,\n",
       "  decision_function_shape='ovr', degree=3, gamma=0.01, kernel='rbf',\n",
       "  max_iter=-1, probability=False, random_state=None, shrinking=True,\n",
       "  tol=0.001, verbose=False)"
      ]
     },
     "execution_count": 25,
     "metadata": {},
     "output_type": "execute_result"
    }
   ],
   "source": [
    "# creating a model with sklearn's SVC, feel free to play around with the parameters!\n",
    "svm = SVC(gamma = .01)\n",
    "\n",
    "# training/fitting a model with training data\n",
    "svm.fit(x_training, y_training)"
   ]
  },
  {
   "cell_type": "markdown",
   "metadata": {},
   "source": [
    "## Evaluating Model"
   ]
  },
  {
   "cell_type": "code",
   "execution_count": 26,
   "metadata": {},
   "outputs": [
    {
     "name": "stdout",
     "output_type": "stream",
     "text": [
      "Training Accuracy is  96.74267100977198\n",
      "Testing Accuracy is  72.07792207792207\n"
     ]
    }
   ],
   "source": [
    "#printing accuracy of testing & training data\n",
    "y_train_pred= svm.predict(x_training)\n",
    "print(\"Training Accuracy is \", accuracy_score(y_training, y_train_pred)*100)\n",
    "y_test_pred= svm.predict(x_testing)\n",
    "print(\"Testing Accuracy is \", accuracy_score(y_testing,y_test_pred)*100)"
   ]
  },
  {
   "cell_type": "markdown",
   "metadata": {},
   "source": [
    "## Notes"
   ]
  },
  {
   "cell_type": "markdown",
   "metadata": {},
   "source": [
    "**Advantages**\n",
    "- Works well on smaller cleaner datasets\n",
    "- Accuracy\n",
    "- Uses a subset of training points in the decision function (called support vectors), so it is also **memory efficient**.\n",
    "\n",
    "**Disadvantages**\n",
    "- Training time is long, isn't well suited for larger data sets\n",
    "- Less effective on noisier datasets with overlapping classes\n",
    "> - If the number of features is much greater than the number of samples, **avoid over-fitting**."
   ]
  }
 ],
 "metadata": {
  "kernelspec": {
   "display_name": "Python 3",
   "language": "python",
   "name": "python3"
  },
  "language_info": {
   "codemirror_mode": {
    "name": "ipython",
    "version": 3
   },
   "file_extension": ".py",
   "mimetype": "text/x-python",
   "name": "python",
   "nbconvert_exporter": "python",
   "pygments_lexer": "ipython3",
   "version": "3.7.3"
  }
 },
 "nbformat": 4,
 "nbformat_minor": 2
}
